{
 "cells": [
  {
   "cell_type": "code",
   "execution_count": 50,
   "metadata": {},
   "outputs": [],
   "source": [
    "import pandas as  pd\n",
    "import seaborn as sns\n",
    "from datetime import datetime, timedelta\n",
    "import numpy as np\n",
    "from sklearn.linear_model import LinearRegression\n",
    "import matplotlib.pyplot as plt"
   ]
  },
  {
   "cell_type": "markdown",
   "metadata": {},
   "source": [
    "## 1. Необходимо рассчитать текущий LTV юзера, используя когортный анализ"
   ]
  },
  {
   "cell_type": "code",
   "execution_count": 2,
   "metadata": {},
   "outputs": [],
   "source": [
    "df = pd.read_excel('test case data analyst.xlsx')"
   ]
  },
  {
   "cell_type": "code",
   "execution_count": 3,
   "metadata": {},
   "outputs": [
    {
     "data": {
      "text/plain": [
       "Timedelta('50 days 00:00:00')"
      ]
     },
     "execution_count": 3,
     "metadata": {},
     "output_type": "execute_result"
    }
   ],
   "source": [
    "df['purchase_date'].max() - df['purchase_date'].min()"
   ]
  },
  {
   "cell_type": "code",
   "execution_count": 4,
   "metadata": {},
   "outputs": [
    {
     "data": {
      "text/plain": [
       "Timestamp('2020-01-01 00:00:00')"
      ]
     },
     "execution_count": 4,
     "metadata": {},
     "output_type": "execute_result"
    }
   ],
   "source": [
    "df['purchase_date'].min()"
   ]
  },
  {
   "cell_type": "code",
   "execution_count": 5,
   "metadata": {},
   "outputs": [
    {
     "data": {
      "text/html": [
       "<div>\n",
       "<style scoped>\n",
       "    .dataframe tbody tr th:only-of-type {\n",
       "        vertical-align: middle;\n",
       "    }\n",
       "\n",
       "    .dataframe tbody tr th {\n",
       "        vertical-align: top;\n",
       "    }\n",
       "\n",
       "    .dataframe thead th {\n",
       "        text-align: right;\n",
       "    }\n",
       "</style>\n",
       "<table border=\"1\" class=\"dataframe\">\n",
       "  <thead>\n",
       "    <tr style=\"text-align: right;\">\n",
       "      <th></th>\n",
       "      <th>product_id</th>\n",
       "      <th>quantity</th>\n",
       "      <th>is_trial_period</th>\n",
       "      <th>purchase_date</th>\n",
       "      <th>user_id</th>\n",
       "    </tr>\n",
       "  </thead>\n",
       "  <tbody>\n",
       "    <tr>\n",
       "      <th>4557</th>\n",
       "      <td>1week_4.99_USD_subscription_7days_trial</td>\n",
       "      <td>1</td>\n",
       "      <td>True</td>\n",
       "      <td>2020-02-04</td>\n",
       "      <td>9253232</td>\n",
       "    </tr>\n",
       "    <tr>\n",
       "      <th>5294</th>\n",
       "      <td>1week_4.99_USD_subscription_7days_trial</td>\n",
       "      <td>1</td>\n",
       "      <td>True</td>\n",
       "      <td>2020-01-29</td>\n",
       "      <td>9061878</td>\n",
       "    </tr>\n",
       "    <tr>\n",
       "      <th>6224</th>\n",
       "      <td>1week_4.99_USD_subscription_7days_trial</td>\n",
       "      <td>1</td>\n",
       "      <td>True</td>\n",
       "      <td>2020-02-10</td>\n",
       "      <td>9443919</td>\n",
       "    </tr>\n",
       "    <tr>\n",
       "      <th>8651</th>\n",
       "      <td>1week_4.99_USD_subscription_7days_trial</td>\n",
       "      <td>1</td>\n",
       "      <td>True</td>\n",
       "      <td>2020-01-12</td>\n",
       "      <td>8577778</td>\n",
       "    </tr>\n",
       "    <tr>\n",
       "      <th>9344</th>\n",
       "      <td>1week_4.99_USD_subscription_7days_trial</td>\n",
       "      <td>1</td>\n",
       "      <td>True</td>\n",
       "      <td>2020-01-10</td>\n",
       "      <td>1639577</td>\n",
       "    </tr>\n",
       "    <tr>\n",
       "      <th>...</th>\n",
       "      <td>...</td>\n",
       "      <td>...</td>\n",
       "      <td>...</td>\n",
       "      <td>...</td>\n",
       "      <td>...</td>\n",
       "    </tr>\n",
       "    <tr>\n",
       "      <th>108981</th>\n",
       "      <td>1week_4.99_USD_subscription_7days_trial</td>\n",
       "      <td>1</td>\n",
       "      <td>True</td>\n",
       "      <td>2020-01-27</td>\n",
       "      <td>9031123</td>\n",
       "    </tr>\n",
       "    <tr>\n",
       "      <th>111306</th>\n",
       "      <td>1week_4.99_USD_subscription_7days_trial</td>\n",
       "      <td>1</td>\n",
       "      <td>True</td>\n",
       "      <td>2020-02-13</td>\n",
       "      <td>9527949</td>\n",
       "    </tr>\n",
       "    <tr>\n",
       "      <th>112859</th>\n",
       "      <td>1week_4.99_USD_subscription_7days_trial</td>\n",
       "      <td>1</td>\n",
       "      <td>True</td>\n",
       "      <td>2020-01-03</td>\n",
       "      <td>8279172</td>\n",
       "    </tr>\n",
       "    <tr>\n",
       "      <th>113287</th>\n",
       "      <td>1week_4.99_USD_subscription_7days_trial</td>\n",
       "      <td>1</td>\n",
       "      <td>True</td>\n",
       "      <td>2020-01-17</td>\n",
       "      <td>8754110</td>\n",
       "    </tr>\n",
       "    <tr>\n",
       "      <th>113387</th>\n",
       "      <td>1week_4.99_USD_subscription_7days_trial</td>\n",
       "      <td>1</td>\n",
       "      <td>True</td>\n",
       "      <td>2020-02-07</td>\n",
       "      <td>9340138</td>\n",
       "    </tr>\n",
       "  </tbody>\n",
       "</table>\n",
       "<p>64 rows × 5 columns</p>\n",
       "</div>"
      ],
      "text/plain": [
       "                                     product_id  quantity  is_trial_period  \\\n",
       "4557    1week_4.99_USD_subscription_7days_trial         1             True   \n",
       "5294    1week_4.99_USD_subscription_7days_trial         1             True   \n",
       "6224    1week_4.99_USD_subscription_7days_trial         1             True   \n",
       "8651    1week_4.99_USD_subscription_7days_trial         1             True   \n",
       "9344    1week_4.99_USD_subscription_7days_trial         1             True   \n",
       "...                                         ...       ...              ...   \n",
       "108981  1week_4.99_USD_subscription_7days_trial         1             True   \n",
       "111306  1week_4.99_USD_subscription_7days_trial         1             True   \n",
       "112859  1week_4.99_USD_subscription_7days_trial         1             True   \n",
       "113287  1week_4.99_USD_subscription_7days_trial         1             True   \n",
       "113387  1week_4.99_USD_subscription_7days_trial         1             True   \n",
       "\n",
       "       purchase_date  user_id  \n",
       "4557      2020-02-04  9253232  \n",
       "5294      2020-01-29  9061878  \n",
       "6224      2020-02-10  9443919  \n",
       "8651      2020-01-12  8577778  \n",
       "9344      2020-01-10  1639577  \n",
       "...              ...      ...  \n",
       "108981    2020-01-27  9031123  \n",
       "111306    2020-02-13  9527949  \n",
       "112859    2020-01-03  8279172  \n",
       "113287    2020-01-17  8754110  \n",
       "113387    2020-02-07  9340138  \n",
       "\n",
       "[64 rows x 5 columns]"
      ]
     },
     "execution_count": 5,
     "metadata": {},
     "output_type": "execute_result"
    }
   ],
   "source": [
    "df.loc[df['is_trial_period'] == True].loc[df.loc[df['is_trial_period'] == True].duplicated()]"
   ]
  },
  {
   "cell_type": "markdown",
   "metadata": {},
   "source": [
    "Удалю дубликаты"
   ]
  },
  {
   "cell_type": "code",
   "execution_count": 6,
   "metadata": {},
   "outputs": [],
   "source": [
    "df = df.drop_duplicates()"
   ]
  },
  {
   "cell_type": "markdown",
   "metadata": {},
   "source": [
    "Я на всякий случай решил подстраховаться, вдруг есть пользователи которые решили платить сразу"
   ]
  },
  {
   "cell_type": "code",
   "execution_count": 7,
   "metadata": {},
   "outputs": [],
   "source": [
    "df =  df.merge(df.groupby('user_id')['purchase_date'].min().reset_index().rename({'purchase_date':'first_ts'}, axis=1))"
   ]
  },
  {
   "cell_type": "code",
   "execution_count": 8,
   "metadata": {},
   "outputs": [],
   "source": [
    "df['revenue'] = 0"
   ]
  },
  {
   "cell_type": "code",
   "execution_count": 9,
   "metadata": {},
   "outputs": [],
   "source": [
    "df.loc[df['is_trial_period'] == False, 'revenue'] = 4.99"
   ]
  },
  {
   "cell_type": "markdown",
   "metadata": {},
   "source": [
    "Для удобства, я решил использовать номера дней а  не даты"
   ]
  },
  {
   "cell_type": "code",
   "execution_count": 10,
   "metadata": {},
   "outputs": [],
   "source": [
    "df['day_num'] = (df['purchase_date'] - df['purchase_date'].min()).dt.days \n"
   ]
  },
  {
   "cell_type": "code",
   "execution_count": 11,
   "metadata": {},
   "outputs": [],
   "source": [
    "df['first_ts_num'] = (df['first_ts'] - df['first_ts'].min()).dt.days"
   ]
  },
  {
   "cell_type": "code",
   "execution_count": 100,
   "metadata": {},
   "outputs": [
    {
     "data": {
      "text/html": [
       "<div>\n",
       "<style scoped>\n",
       "    .dataframe tbody tr th:only-of-type {\n",
       "        vertical-align: middle;\n",
       "    }\n",
       "\n",
       "    .dataframe tbody tr th {\n",
       "        vertical-align: top;\n",
       "    }\n",
       "\n",
       "    .dataframe thead th {\n",
       "        text-align: right;\n",
       "    }\n",
       "</style>\n",
       "<table border=\"1\" class=\"dataframe\">\n",
       "  <thead>\n",
       "    <tr style=\"text-align: right;\">\n",
       "      <th></th>\n",
       "      <th>cohort_size</th>\n",
       "      <th>7</th>\n",
       "      <th>14</th>\n",
       "      <th>21</th>\n",
       "      <th>28</th>\n",
       "      <th>35</th>\n",
       "      <th>42</th>\n",
       "    </tr>\n",
       "  </thead>\n",
       "  <tbody>\n",
       "    <tr>\n",
       "      <th>0</th>\n",
       "      <td>370.0</td>\n",
       "      <td>4.315676</td>\n",
       "      <td>8.105378</td>\n",
       "      <td>11.490486</td>\n",
       "      <td>14.457514</td>\n",
       "      <td>17.384081</td>\n",
       "      <td>19.973486</td>\n",
       "    </tr>\n",
       "    <tr>\n",
       "      <th>1</th>\n",
       "      <td>546.0</td>\n",
       "      <td>4.268004</td>\n",
       "      <td>8.024212</td>\n",
       "      <td>11.204652</td>\n",
       "      <td>14.074359</td>\n",
       "      <td>16.660751</td>\n",
       "      <td>19.009524</td>\n",
       "    </tr>\n",
       "    <tr>\n",
       "      <th>2</th>\n",
       "      <td>575.0</td>\n",
       "      <td>4.443270</td>\n",
       "      <td>8.062104</td>\n",
       "      <td>11.247026</td>\n",
       "      <td>14.180278</td>\n",
       "      <td>16.809791</td>\n",
       "      <td>19.152922</td>\n",
       "    </tr>\n",
       "    <tr>\n",
       "      <th>3</th>\n",
       "      <td>633.0</td>\n",
       "      <td>4.304171</td>\n",
       "      <td>7.764850</td>\n",
       "      <td>10.791959</td>\n",
       "      <td>13.621991</td>\n",
       "      <td>16.239179</td>\n",
       "      <td>18.572575</td>\n",
       "    </tr>\n",
       "    <tr>\n",
       "      <th>4</th>\n",
       "      <td>661.0</td>\n",
       "      <td>4.295477</td>\n",
       "      <td>7.866233</td>\n",
       "      <td>11.089728</td>\n",
       "      <td>13.996157</td>\n",
       "      <td>16.736505</td>\n",
       "      <td>19.174887</td>\n",
       "    </tr>\n",
       "    <tr>\n",
       "      <th>5</th>\n",
       "      <td>542.0</td>\n",
       "      <td>4.281089</td>\n",
       "      <td>7.678339</td>\n",
       "      <td>10.762565</td>\n",
       "      <td>13.524557</td>\n",
       "      <td>16.074797</td>\n",
       "      <td>18.348838</td>\n",
       "    </tr>\n",
       "    <tr>\n",
       "      <th>6</th>\n",
       "      <td>474.0</td>\n",
       "      <td>4.200443</td>\n",
       "      <td>7.663966</td>\n",
       "      <td>10.769557</td>\n",
       "      <td>13.569852</td>\n",
       "      <td>16.096435</td>\n",
       "      <td>18.307194</td>\n",
       "    </tr>\n",
       "    <tr>\n",
       "      <th>7</th>\n",
       "      <td>436.0</td>\n",
       "      <td>4.257523</td>\n",
       "      <td>7.828349</td>\n",
       "      <td>10.918486</td>\n",
       "      <td>13.848394</td>\n",
       "      <td>16.572294</td>\n",
       "      <td>19.078739</td>\n",
       "    </tr>\n",
       "  </tbody>\n",
       "</table>\n",
       "</div>"
      ],
      "text/plain": [
       "   cohort_size         7        14         21         28         35         42\n",
       "0        370.0  4.315676  8.105378  11.490486  14.457514  17.384081  19.973486\n",
       "1        546.0  4.268004  8.024212  11.204652  14.074359  16.660751  19.009524\n",
       "2        575.0  4.443270  8.062104  11.247026  14.180278  16.809791  19.152922\n",
       "3        633.0  4.304171  7.764850  10.791959  13.621991  16.239179  18.572575\n",
       "4        661.0  4.295477  7.866233  11.089728  13.996157  16.736505  19.174887\n",
       "5        542.0  4.281089  7.678339  10.762565  13.524557  16.074797  18.348838\n",
       "6        474.0  4.200443  7.663966  10.769557  13.569852  16.096435  18.307194\n",
       "7        436.0  4.257523  7.828349  10.918486  13.848394  16.572294  19.078739"
      ]
     },
     "execution_count": 100,
     "metadata": {},
     "output_type": "execute_result"
    }
   ],
   "source": [
    "\n",
    "ltv_reg = pd.DataFrame()\n",
    "for x in range(8):\n",
    "    \n",
    "    cogort = df.loc[(df['first_ts_num'] == x) & (df['day_num'] <= 42 + x)]\n",
    "    cohort_size = cogort['user_id'].nunique()\n",
    "    ltv =  (cogort.groupby('day_num')['revenue'].sum() / cohort_size ).cumsum()\n",
    "    ltv_reg = ltv_reg.append(    \n",
    "\n",
    "                { 'cohort_size' :cohort_size, \n",
    "                   7 : ltv[7 + x], \n",
    "                14 : ltv[14 + x],\n",
    "                21 : ltv[21 + x],\n",
    "                28 : ltv[28 + x],\n",
    "                35 : ltv[35 + x],\n",
    "                42 : ltv[42 + x]\n",
    "                }, ignore_index=True\n",
    "            )\n",
    "ltv_reg"
   ]
  },
  {
   "cell_type": "markdown",
   "metadata": {},
   "source": [
    "Прирост лтв со временем уменьшается не очень сильно, это хорошие новости"
   ]
  },
  {
   "cell_type": "code",
   "execution_count": 101,
   "metadata": {},
   "outputs": [
    {
     "data": {
      "text/plain": [
       "Text(0.5, 1.0, 'LTV')"
      ]
     },
     "execution_count": 101,
     "metadata": {},
     "output_type": "execute_result"
    },
    {
     "data": {
      "image/png": "[encoded data removed]",
      "text/plain": [
       "<Figure size 1080x648 with 1 Axes>"
      ]
     },
     "metadata": {
      "needs_background": "light"
     },
     "output_type": "display_data"
    }
   ],
   "source": [
    "ltv_reg[ltv_reg.columns[1:]].T.plot(figsize = (15, 9))\n",
    "\n",
    "plt.xlabel('Лайфтайм')\n",
    "plt.title('LTV')"
   ]
  },
  {
   "cell_type": "markdown",
   "metadata": {},
   "source": [
    "**Вывод:** у пользователей довольно большой цикл жизни, прирост снижается довольно медленно"
   ]
  },
  {
   "cell_type": "markdown",
   "metadata": {},
   "source": [
    "## 2. Спрогнозировать, каким будет LTV на полгода."
   ]
  },
  {
   "cell_type": "markdown",
   "metadata": {},
   "source": [
    "Для этого я решил использовать линейную регрессию, думаю её будет вполне достаточно для такой задачи"
   ]
  },
  {
   "cell_type": "code",
   "execution_count": 33,
   "metadata": {},
   "outputs": [],
   "source": [
    "weighted_average =  ltv_reg[ltv_reg.columns[1:]].mean().reset_index().rename(columns = {'index': 'day', 0:'revenue'})"
   ]
  },
  {
   "cell_type": "markdown",
   "metadata": {},
   "source": [
    "Вначале посчитаю среднее лтв среди наших когорт "
   ]
  },
  {
   "cell_type": "code",
   "execution_count": 37,
   "metadata": {},
   "outputs": [
    {
     "data": {
      "text/html": [
       "<div>\n",
       "<style scoped>\n",
       "    .dataframe tbody tr th:only-of-type {\n",
       "        vertical-align: middle;\n",
       "    }\n",
       "\n",
       "    .dataframe tbody tr th {\n",
       "        vertical-align: top;\n",
       "    }\n",
       "\n",
       "    .dataframe thead th {\n",
       "        text-align: right;\n",
       "    }\n",
       "</style>\n",
       "<table border=\"1\" class=\"dataframe\">\n",
       "  <thead>\n",
       "    <tr style=\"text-align: right;\">\n",
       "      <th></th>\n",
       "      <th>day</th>\n",
       "      <th>revenue</th>\n",
       "    </tr>\n",
       "  </thead>\n",
       "  <tbody>\n",
       "    <tr>\n",
       "      <th>0</th>\n",
       "      <td>7</td>\n",
       "      <td>1.761101</td>\n",
       "    </tr>\n",
       "    <tr>\n",
       "      <th>1</th>\n",
       "      <td>14</td>\n",
       "      <td>3.228304</td>\n",
       "    </tr>\n",
       "    <tr>\n",
       "      <th>2</th>\n",
       "      <td>21</td>\n",
       "      <td>4.523930</td>\n",
       "    </tr>\n",
       "    <tr>\n",
       "      <th>3</th>\n",
       "      <td>28</td>\n",
       "      <td>5.702444</td>\n",
       "    </tr>\n",
       "    <tr>\n",
       "      <th>4</th>\n",
       "      <td>35</td>\n",
       "      <td>6.794150</td>\n",
       "    </tr>\n",
       "    <tr>\n",
       "      <th>5</th>\n",
       "      <td>42</td>\n",
       "      <td>7.770095</td>\n",
       "    </tr>\n",
       "  </tbody>\n",
       "</table>\n",
       "</div>"
      ],
      "text/plain": [
       "   day   revenue\n",
       "0    7  1.761101\n",
       "1   14  3.228304\n",
       "2   21  4.523930\n",
       "3   28  5.702444\n",
       "4   35  6.794150\n",
       "5   42  7.770095"
      ]
     },
     "execution_count": 37,
     "metadata": {},
     "output_type": "execute_result"
    }
   ],
   "source": [
    "weighted_average"
   ]
  },
  {
   "cell_type": "code",
   "execution_count": 34,
   "metadata": {},
   "outputs": [],
   "source": [
    "model = LinearRegression().fit(np.array(weighted_average['day']).reshape(-1, 1), weighted_average['revenue'])"
   ]
  },
  {
   "cell_type": "code",
   "execution_count": 35,
   "metadata": {},
   "outputs": [
    {
     "data": {
      "text/plain": [
       "0.9949090469389663"
      ]
     },
     "execution_count": 35,
     "metadata": {},
     "output_type": "execute_result"
    }
   ],
   "source": [
    "model.score(np.array(weighted_average['day']).reshape(-1, 1), weighted_average['revenue'])\n"
   ]
  },
  {
   "cell_type": "markdown",
   "metadata": {},
   "source": [
    "предсказания не очень но, хоть так"
   ]
  },
  {
   "cell_type": "code",
   "execution_count": 36,
   "metadata": {},
   "outputs": [
    {
     "data": {
      "text/plain": [
       "array([1.96897864, 3.16672216, 4.36446569, 5.56220921, 6.75995273,\n",
       "       7.95769626])"
      ]
     },
     "execution_count": 36,
     "metadata": {},
     "output_type": "execute_result"
    }
   ],
   "source": [
    "model.predict(np.array(weighted_average['day']).reshape(-1, 1))"
   ]
  },
  {
   "cell_type": "code",
   "execution_count": 41,
   "metadata": {},
   "outputs": [
    {
     "data": {
      "text/plain": [
       "array([ 1.96897864,  3.16672216,  4.36446569,  5.56220921,  6.75995273,\n",
       "        7.95769626,  9.15543978, 10.35318331, 11.55092683, 12.74867036,\n",
       "       13.94641388, 15.14415741, 16.34190093, 17.53964445, 18.73738798,\n",
       "       19.9351315 , 21.13287503, 22.33061855, 23.52836208, 24.7261056 ,\n",
       "       25.92384913, 27.12159265, 28.31933617, 29.5170797 , 30.71482322])"
      ]
     },
     "execution_count": 41,
     "metadata": {},
     "output_type": "execute_result"
    }
   ],
   "source": [
    "model.predict(np.arange(7, 182, 7).reshape((-1, 1)))"
   ]
  },
  {
   "cell_type": "code",
   "execution_count": 44,
   "metadata": {},
   "outputs": [
    {
     "data": {
      "text/html": [
       "<div>\n",
       "<style scoped>\n",
       "    .dataframe tbody tr th:only-of-type {\n",
       "        vertical-align: middle;\n",
       "    }\n",
       "\n",
       "    .dataframe tbody tr th {\n",
       "        vertical-align: top;\n",
       "    }\n",
       "\n",
       "    .dataframe thead th {\n",
       "        text-align: right;\n",
       "    }\n",
       "</style>\n",
       "<table border=\"1\" class=\"dataframe\">\n",
       "  <thead>\n",
       "    <tr style=\"text-align: right;\">\n",
       "      <th></th>\n",
       "      <th>7</th>\n",
       "      <th>14</th>\n",
       "      <th>21</th>\n",
       "      <th>28</th>\n",
       "      <th>35</th>\n",
       "      <th>42</th>\n",
       "      <th>50</th>\n",
       "    </tr>\n",
       "  </thead>\n",
       "  <tbody>\n",
       "    <tr>\n",
       "      <th>0</th>\n",
       "      <td>1.762472</td>\n",
       "      <td>3.310143</td>\n",
       "      <td>4.692583</td>\n",
       "      <td>5.904283</td>\n",
       "      <td>7.099459</td>\n",
       "      <td>8.156943</td>\n",
       "      <td>9.18138</td>\n",
       "    </tr>\n",
       "  </tbody>\n",
       "</table>\n",
       "</div>"
      ],
      "text/plain": [
       "         7         14        21        28        35        42       50\n",
       "0  1.762472  3.310143  4.692583  5.904283  7.099459  8.156943  9.18138"
      ]
     },
     "execution_count": 44,
     "metadata": {},
     "output_type": "execute_result"
    }
   ],
   "source": [
    "ltv_1cogort = pd.DataFrame()\n",
    "\n",
    "\n",
    "cogort = df.loc[(df['first_ts_num'] == 0) & (df['day_num'] <= 50 )]\n",
    "cohort_size = cogort['user_id'].nunique()\n",
    "ltv =  (cogort.groupby('day_num')['revenue'].sum() / cohort_size ).cumsum()\n",
    "ltv_1cogort = ltv_1cogort.append(    \n",
    "\n",
    "            {  \n",
    "                7 : ltv[7 ], \n",
    "            14 : ltv[14],\n",
    "            21 : ltv[21],\n",
    "            28 : ltv[28],\n",
    "            35 : ltv[35],\n",
    "            42 : ltv[42],\n",
    "            50: ltv[50]\n",
    "            }, ignore_index=True\n",
    "        )\n",
    "ltv_1cogort"
   ]
  },
  {
   "cell_type": "code",
   "execution_count": 48,
   "metadata": {},
   "outputs": [],
   "source": [
    "ltv_1cogort = ltv_1cogort.T.reset_index().rename(columns = {'index': 'day', 0:'revenue'})"
   ]
  },
  {
   "cell_type": "markdown",
   "metadata": {},
   "source": [
    "## 3. Построить график, который будет отображать кривую фактического LTV на фоне кривой прогнозируемого LTV."
   ]
  },
  {
   "cell_type": "markdown",
   "metadata": {},
   "source": [
    "Видно что предсказание довольно близко к реальному значению"
   ]
  },
  {
   "cell_type": "code",
   "execution_count": 97,
   "metadata": {},
   "outputs": [
    {
     "name": "stderr",
     "output_type": "stream",
     "text": [
      "No handles with labels found to put in legend.\n"
     ]
    },
    {
     "data": {
      "text/plain": [
       "Text(0.5, 1.0, 'LTV')"
      ]
     },
     "execution_count": 97,
     "metadata": {},
     "output_type": "execute_result"
    },
    {
     "data": {
      "image/png": "[encoded data removed]",
      "text/plain": [
       "<Figure size 1008x360 with 1 Axes>"
      ]
     },
     "metadata": {
      "needs_background": "light"
     },
     "output_type": "display_data"
    }
   ],
   "source": [
    "plt.figure(figsize=(14,5))\n",
    "\n",
    "sns.lineplot(x = np.arange(7, 182, 7), y =  model.predict(np.arange(7, 182, 7).reshape((-1, 1))))\n",
    "sns.lineplot(x = ltv_1cogort['day'], y =  ltv_1cogort['revenue'])\n",
    "plt.legend()\n",
    "plt.xlabel('Лайфтайм')\n",
    "plt.title('LTV')"
   ]
  },
  {
   "cell_type": "markdown",
   "metadata": {},
   "source": [
    "**Вывод:** прогнозируемые значения получились довольно близкими к первой когорте и очень оптимистичными.\n"
   ]
  },
  {
   "cell_type": "markdown",
   "metadata": {},
   "source": [
    "## 4. Рассчитать ROMI на 4 недели и на полгода, если стоимость привлечения платящего пользователя 6 USD (ROMI нужно брать операционный, а не бухгалтерский, цель: узнать как окупятся наши инвестиции)."
   ]
  },
  {
   "cell_type": "markdown",
   "metadata": {},
   "source": [
    "Так как нам нужны только платящие пользователи, то нужно исключить неплатящих"
   ]
  },
  {
   "cell_type": "code",
   "execution_count": 62,
   "metadata": {},
   "outputs": [],
   "source": [
    "df = df.loc[df['is_trial_period'] == False]"
   ]
  },
  {
   "cell_type": "code",
   "execution_count": 89,
   "metadata": {},
   "outputs": [],
   "source": [
    "cac = 6"
   ]
  },
  {
   "cell_type": "code",
   "execution_count": 90,
   "metadata": {},
   "outputs": [
    {
     "data": {
      "text/html": [
       "<div>\n",
       "<style scoped>\n",
       "    .dataframe tbody tr th:only-of-type {\n",
       "        vertical-align: middle;\n",
       "    }\n",
       "\n",
       "    .dataframe tbody tr th {\n",
       "        vertical-align: top;\n",
       "    }\n",
       "\n",
       "    .dataframe thead th {\n",
       "        text-align: right;\n",
       "    }\n",
       "</style>\n",
       "<table border=\"1\" class=\"dataframe\">\n",
       "  <thead>\n",
       "    <tr style=\"text-align: right;\">\n",
       "      <th></th>\n",
       "      <th>cohort_size</th>\n",
       "      <th>7</th>\n",
       "      <th>14</th>\n",
       "      <th>21</th>\n",
       "      <th>28</th>\n",
       "    </tr>\n",
       "  </thead>\n",
       "  <tbody>\n",
       "    <tr>\n",
       "      <th>0</th>\n",
       "      <td>357.0</td>\n",
       "      <td>0.745472</td>\n",
       "      <td>1.400089</td>\n",
       "      <td>1.984818</td>\n",
       "      <td>2.497330</td>\n",
       "    </tr>\n",
       "    <tr>\n",
       "      <th>1</th>\n",
       "      <td>529.0</td>\n",
       "      <td>0.734193</td>\n",
       "      <td>1.380347</td>\n",
       "      <td>1.927454</td>\n",
       "      <td>2.421109</td>\n",
       "    </tr>\n",
       "    <tr>\n",
       "      <th>2</th>\n",
       "      <td>564.0</td>\n",
       "      <td>0.754988</td>\n",
       "      <td>1.369891</td>\n",
       "      <td>1.911064</td>\n",
       "      <td>2.409474</td>\n",
       "    </tr>\n",
       "    <tr>\n",
       "      <th>3</th>\n",
       "      <td>609.0</td>\n",
       "      <td>0.745632</td>\n",
       "      <td>1.345142</td>\n",
       "      <td>1.869543</td>\n",
       "      <td>2.359803</td>\n",
       "    </tr>\n",
       "    <tr>\n",
       "      <th>4</th>\n",
       "      <td>644.0</td>\n",
       "      <td>0.734811</td>\n",
       "      <td>1.345647</td>\n",
       "      <td>1.897078</td>\n",
       "      <td>2.394270</td>\n",
       "    </tr>\n",
       "    <tr>\n",
       "      <th>5</th>\n",
       "      <td>526.0</td>\n",
       "      <td>0.735219</td>\n",
       "      <td>1.318650</td>\n",
       "      <td>1.848324</td>\n",
       "      <td>2.322658</td>\n",
       "    </tr>\n",
       "    <tr>\n",
       "      <th>6</th>\n",
       "      <td>461.0</td>\n",
       "      <td>0.719816</td>\n",
       "      <td>1.313348</td>\n",
       "      <td>1.845542</td>\n",
       "      <td>2.325419</td>\n",
       "    </tr>\n",
       "    <tr>\n",
       "      <th>7</th>\n",
       "      <td>423.0</td>\n",
       "      <td>0.731395</td>\n",
       "      <td>1.344823</td>\n",
       "      <td>1.875674</td>\n",
       "      <td>2.378999</td>\n",
       "    </tr>\n",
       "    <tr>\n",
       "      <th>8</th>\n",
       "      <td>419.0</td>\n",
       "      <td>0.696695</td>\n",
       "      <td>1.312009</td>\n",
       "      <td>1.843958</td>\n",
       "      <td>2.322315</td>\n",
       "    </tr>\n",
       "    <tr>\n",
       "      <th>9</th>\n",
       "      <td>459.0</td>\n",
       "      <td>0.742883</td>\n",
       "      <td>1.386111</td>\n",
       "      <td>1.926060</td>\n",
       "      <td>2.411652</td>\n",
       "    </tr>\n",
       "    <tr>\n",
       "      <th>10</th>\n",
       "      <td>475.0</td>\n",
       "      <td>0.728365</td>\n",
       "      <td>1.349926</td>\n",
       "      <td>1.882193</td>\n",
       "      <td>2.365435</td>\n",
       "    </tr>\n",
       "    <tr>\n",
       "      <th>11</th>\n",
       "      <td>444.0</td>\n",
       "      <td>0.732391</td>\n",
       "      <td>1.333664</td>\n",
       "      <td>1.863758</td>\n",
       "      <td>2.345150</td>\n",
       "    </tr>\n",
       "    <tr>\n",
       "      <th>12</th>\n",
       "      <td>533.0</td>\n",
       "      <td>0.720882</td>\n",
       "      <td>1.309134</td>\n",
       "      <td>1.830291</td>\n",
       "      <td>2.284353</td>\n",
       "    </tr>\n",
       "    <tr>\n",
       "      <th>13</th>\n",
       "      <td>490.0</td>\n",
       "      <td>0.719646</td>\n",
       "      <td>1.298418</td>\n",
       "      <td>1.817786</td>\n",
       "      <td>2.260776</td>\n",
       "    </tr>\n",
       "    <tr>\n",
       "      <th>14</th>\n",
       "      <td>523.0</td>\n",
       "      <td>0.748977</td>\n",
       "      <td>1.359608</td>\n",
       "      <td>1.890730</td>\n",
       "      <td>2.347113</td>\n",
       "    </tr>\n",
       "    <tr>\n",
       "      <th>15</th>\n",
       "      <td>562.0</td>\n",
       "      <td>0.694042</td>\n",
       "      <td>1.285976</td>\n",
       "      <td>1.821676</td>\n",
       "      <td>2.287823</td>\n",
       "    </tr>\n",
       "    <tr>\n",
       "      <th>16</th>\n",
       "      <td>495.0</td>\n",
       "      <td>0.715737</td>\n",
       "      <td>1.330667</td>\n",
       "      <td>1.864949</td>\n",
       "      <td>2.330347</td>\n",
       "    </tr>\n",
       "    <tr>\n",
       "      <th>17</th>\n",
       "      <td>420.0</td>\n",
       "      <td>0.698996</td>\n",
       "      <td>1.312845</td>\n",
       "      <td>1.817786</td>\n",
       "      <td>2.289063</td>\n",
       "    </tr>\n",
       "    <tr>\n",
       "      <th>18</th>\n",
       "      <td>415.0</td>\n",
       "      <td>0.699402</td>\n",
       "      <td>1.282570</td>\n",
       "      <td>1.799606</td>\n",
       "      <td>2.238486</td>\n",
       "    </tr>\n",
       "    <tr>\n",
       "      <th>19</th>\n",
       "      <td>438.0</td>\n",
       "      <td>0.700651</td>\n",
       "      <td>1.272184</td>\n",
       "      <td>1.769665</td>\n",
       "      <td>2.219677</td>\n",
       "    </tr>\n",
       "    <tr>\n",
       "      <th>20</th>\n",
       "      <td>504.0</td>\n",
       "      <td>0.693056</td>\n",
       "      <td>1.237599</td>\n",
       "      <td>1.717788</td>\n",
       "      <td>2.150122</td>\n",
       "    </tr>\n",
       "    <tr>\n",
       "      <th>21</th>\n",
       "      <td>452.0</td>\n",
       "      <td>0.735988</td>\n",
       "      <td>1.332139</td>\n",
       "      <td>1.873090</td>\n",
       "      <td>2.331243</td>\n",
       "    </tr>\n",
       "  </tbody>\n",
       "</table>\n",
       "</div>"
      ],
      "text/plain": [
       "    cohort_size         7        14        21        28\n",
       "0         357.0  0.745472  1.400089  1.984818  2.497330\n",
       "1         529.0  0.734193  1.380347  1.927454  2.421109\n",
       "2         564.0  0.754988  1.369891  1.911064  2.409474\n",
       "3         609.0  0.745632  1.345142  1.869543  2.359803\n",
       "4         644.0  0.734811  1.345647  1.897078  2.394270\n",
       "5         526.0  0.735219  1.318650  1.848324  2.322658\n",
       "6         461.0  0.719816  1.313348  1.845542  2.325419\n",
       "7         423.0  0.731395  1.344823  1.875674  2.378999\n",
       "8         419.0  0.696695  1.312009  1.843958  2.322315\n",
       "9         459.0  0.742883  1.386111  1.926060  2.411652\n",
       "10        475.0  0.728365  1.349926  1.882193  2.365435\n",
       "11        444.0  0.732391  1.333664  1.863758  2.345150\n",
       "12        533.0  0.720882  1.309134  1.830291  2.284353\n",
       "13        490.0  0.719646  1.298418  1.817786  2.260776\n",
       "14        523.0  0.748977  1.359608  1.890730  2.347113\n",
       "15        562.0  0.694042  1.285976  1.821676  2.287823\n",
       "16        495.0  0.715737  1.330667  1.864949  2.330347\n",
       "17        420.0  0.698996  1.312845  1.817786  2.289063\n",
       "18        415.0  0.699402  1.282570  1.799606  2.238486\n",
       "19        438.0  0.700651  1.272184  1.769665  2.219677\n",
       "20        504.0  0.693056  1.237599  1.717788  2.150122\n",
       "21        452.0  0.735988  1.332139  1.873090  2.331243"
      ]
     },
     "execution_count": 90,
     "metadata": {},
     "output_type": "execute_result"
    }
   ],
   "source": [
    "romi = pd.DataFrame()\n",
    "for x in range(22):\n",
    "    \n",
    "    cogort = df.loc[(df['first_ts_num'] == x) & (df['day_num'] <= 28 + x)]\n",
    "    cohort_size = cogort['user_id'].nunique()\n",
    "    ltv =  (cogort.groupby('day_num')['revenue'].sum() / cohort_size ).cumsum()\n",
    "    romi = romi.append(    \n",
    "\n",
    "                { 'cohort_size' :cohort_size, \n",
    "                   7 : ltv[7 + x] / cac, \n",
    "                14 : ltv[14 + x]/ cac,\n",
    "                21 : ltv[21 + x]/ cac,\n",
    "                28 : ltv[28 + x] / cac\n",
    "\n",
    "                }, ignore_index=True\n",
    "            )\n",
    "romi"
   ]
  },
  {
   "cell_type": "markdown",
   "metadata": {},
   "source": [
    "Видно, что при такой стоимости привлечения окупаемость наступает со второй недили"
   ]
  },
  {
   "cell_type": "code",
   "execution_count": 102,
   "metadata": {},
   "outputs": [
    {
     "data": {
      "text/plain": [
       "Text(0.5, 1.0, 'ROMI на 4 недели')"
      ]
     },
     "execution_count": 102,
     "metadata": {},
     "output_type": "execute_result"
    },
    {
     "data": {
      "image/png": "[encoded data removed]",
      "text/plain": [
       "<Figure size 1080x648 with 1 Axes>"
      ]
     },
     "metadata": {
      "needs_background": "light"
     },
     "output_type": "display_data"
    }
   ],
   "source": [
    "romi[romi.columns[1:]].T.plot(figsize = (15, 9))\n",
    "plt.axhline(y=1, color='red', linestyle='--', label='Уровень окупаемости')\n",
    "plt.legend()\n",
    "plt.xlabel('Лайфтайм')\n",
    "plt.title('ROMI на 4 недели')"
   ]
  },
  {
   "cell_type": "markdown",
   "metadata": {},
   "source": [
    "Чтобы график на пол года  был точнее я посчитаю romi на 42 дня"
   ]
  },
  {
   "cell_type": "code",
   "execution_count": 108,
   "metadata": {},
   "outputs": [
    {
     "data": {
      "text/html": [
       "<div>\n",
       "<style scoped>\n",
       "    .dataframe tbody tr th:only-of-type {\n",
       "        vertical-align: middle;\n",
       "    }\n",
       "\n",
       "    .dataframe tbody tr th {\n",
       "        vertical-align: top;\n",
       "    }\n",
       "\n",
       "    .dataframe thead th {\n",
       "        text-align: right;\n",
       "    }\n",
       "</style>\n",
       "<table border=\"1\" class=\"dataframe\">\n",
       "  <thead>\n",
       "    <tr style=\"text-align: right;\">\n",
       "      <th></th>\n",
       "      <th>cohort_size</th>\n",
       "      <th>7</th>\n",
       "      <th>14</th>\n",
       "      <th>21</th>\n",
       "      <th>28</th>\n",
       "      <th>35</th>\n",
       "      <th>42</th>\n",
       "    </tr>\n",
       "  </thead>\n",
       "  <tbody>\n",
       "    <tr>\n",
       "      <th>0</th>\n",
       "      <td>370.0</td>\n",
       "      <td>0.719279</td>\n",
       "      <td>1.350896</td>\n",
       "      <td>1.915081</td>\n",
       "      <td>2.409586</td>\n",
       "      <td>2.897347</td>\n",
       "      <td>3.328914</td>\n",
       "    </tr>\n",
       "    <tr>\n",
       "      <th>1</th>\n",
       "      <td>546.0</td>\n",
       "      <td>0.711334</td>\n",
       "      <td>1.337369</td>\n",
       "      <td>1.867442</td>\n",
       "      <td>2.345726</td>\n",
       "      <td>2.776792</td>\n",
       "      <td>3.168254</td>\n",
       "    </tr>\n",
       "    <tr>\n",
       "      <th>2</th>\n",
       "      <td>575.0</td>\n",
       "      <td>0.740545</td>\n",
       "      <td>1.343684</td>\n",
       "      <td>1.874504</td>\n",
       "      <td>2.363380</td>\n",
       "      <td>2.801632</td>\n",
       "      <td>3.192154</td>\n",
       "    </tr>\n",
       "    <tr>\n",
       "      <th>3</th>\n",
       "      <td>633.0</td>\n",
       "      <td>0.717362</td>\n",
       "      <td>1.294142</td>\n",
       "      <td>1.798660</td>\n",
       "      <td>2.270332</td>\n",
       "      <td>2.706530</td>\n",
       "      <td>3.095429</td>\n",
       "    </tr>\n",
       "    <tr>\n",
       "      <th>4</th>\n",
       "      <td>661.0</td>\n",
       "      <td>0.715913</td>\n",
       "      <td>1.311039</td>\n",
       "      <td>1.848288</td>\n",
       "      <td>2.332693</td>\n",
       "      <td>2.789418</td>\n",
       "      <td>3.195814</td>\n",
       "    </tr>\n",
       "    <tr>\n",
       "      <th>5</th>\n",
       "      <td>542.0</td>\n",
       "      <td>0.713515</td>\n",
       "      <td>1.279723</td>\n",
       "      <td>1.793761</td>\n",
       "      <td>2.254093</td>\n",
       "      <td>2.679133</td>\n",
       "      <td>3.058140</td>\n",
       "    </tr>\n",
       "    <tr>\n",
       "      <th>6</th>\n",
       "      <td>474.0</td>\n",
       "      <td>0.700074</td>\n",
       "      <td>1.277328</td>\n",
       "      <td>1.794926</td>\n",
       "      <td>2.261642</td>\n",
       "      <td>2.682739</td>\n",
       "      <td>3.051199</td>\n",
       "    </tr>\n",
       "    <tr>\n",
       "      <th>7</th>\n",
       "      <td>436.0</td>\n",
       "      <td>0.709587</td>\n",
       "      <td>1.304725</td>\n",
       "      <td>1.819748</td>\n",
       "      <td>2.308066</td>\n",
       "      <td>2.762049</td>\n",
       "      <td>3.179790</td>\n",
       "    </tr>\n",
       "  </tbody>\n",
       "</table>\n",
       "</div>"
      ],
      "text/plain": [
       "   cohort_size         7        14        21        28        35        42\n",
       "0        370.0  0.719279  1.350896  1.915081  2.409586  2.897347  3.328914\n",
       "1        546.0  0.711334  1.337369  1.867442  2.345726  2.776792  3.168254\n",
       "2        575.0  0.740545  1.343684  1.874504  2.363380  2.801632  3.192154\n",
       "3        633.0  0.717362  1.294142  1.798660  2.270332  2.706530  3.095429\n",
       "4        661.0  0.715913  1.311039  1.848288  2.332693  2.789418  3.195814\n",
       "5        542.0  0.713515  1.279723  1.793761  2.254093  2.679133  3.058140\n",
       "6        474.0  0.700074  1.277328  1.794926  2.261642  2.682739  3.051199\n",
       "7        436.0  0.709587  1.304725  1.819748  2.308066  2.762049  3.179790"
      ]
     },
     "execution_count": 108,
     "metadata": {},
     "output_type": "execute_result"
    }
   ],
   "source": [
    "romi = pd.DataFrame()\n",
    "for x in range(8):\n",
    "    \n",
    "    cogort = df.loc[(df['first_ts_num'] == x) & (df['day_num'] <= 42 + x)]\n",
    "    cohort_size = cogort['user_id'].nunique()\n",
    "    ltv =  (cogort.groupby('day_num')['revenue'].sum() / cohort_size ).cumsum()\n",
    "    romi = romi.append(    \n",
    "\n",
    "                { 'cohort_size' :cohort_size, \n",
    "                   7 : ltv[7 + x] / cac, \n",
    "                14 : ltv[14 + x]/ cac,\n",
    "                21 : ltv[21 + x]/ cac,\n",
    "                28 : ltv[28 + x] / cac, \n",
    "                35 : ltv[35 + x] / cac, \n",
    "                42 : ltv[42 + x] / cac\n",
    "\n",
    "                }, ignore_index=True\n",
    "            )\n",
    "romi"
   ]
  },
  {
   "cell_type": "code",
   "execution_count": 109,
   "metadata": {},
   "outputs": [],
   "source": [
    "romi_average =  romi[romi.columns[1:]].mean().reset_index().rename(columns = {'index': 'day', 0:'romi'})"
   ]
  },
  {
   "cell_type": "code",
   "execution_count": 110,
   "metadata": {},
   "outputs": [
    {
     "data": {
      "text/html": [
       "<div>\n",
       "<style scoped>\n",
       "    .dataframe tbody tr th:only-of-type {\n",
       "        vertical-align: middle;\n",
       "    }\n",
       "\n",
       "    .dataframe tbody tr th {\n",
       "        vertical-align: top;\n",
       "    }\n",
       "\n",
       "    .dataframe thead th {\n",
       "        text-align: right;\n",
       "    }\n",
       "</style>\n",
       "<table border=\"1\" class=\"dataframe\">\n",
       "  <thead>\n",
       "    <tr style=\"text-align: right;\">\n",
       "      <th></th>\n",
       "      <th>day</th>\n",
       "      <th>romi</th>\n",
       "    </tr>\n",
       "  </thead>\n",
       "  <tbody>\n",
       "    <tr>\n",
       "      <th>0</th>\n",
       "      <td>7</td>\n",
       "      <td>0.715951</td>\n",
       "    </tr>\n",
       "    <tr>\n",
       "      <th>1</th>\n",
       "      <td>14</td>\n",
       "      <td>1.312363</td>\n",
       "    </tr>\n",
       "    <tr>\n",
       "      <th>2</th>\n",
       "      <td>21</td>\n",
       "      <td>1.839051</td>\n",
       "    </tr>\n",
       "    <tr>\n",
       "      <th>3</th>\n",
       "      <td>28</td>\n",
       "      <td>2.318190</td>\n",
       "    </tr>\n",
       "    <tr>\n",
       "      <th>4</th>\n",
       "      <td>35</td>\n",
       "      <td>2.761955</td>\n",
       "    </tr>\n",
       "    <tr>\n",
       "      <th>5</th>\n",
       "      <td>42</td>\n",
       "      <td>3.158712</td>\n",
       "    </tr>\n",
       "  </tbody>\n",
       "</table>\n",
       "</div>"
      ],
      "text/plain": [
       "   day      romi\n",
       "0    7  0.715951\n",
       "1   14  1.312363\n",
       "2   21  1.839051\n",
       "3   28  2.318190\n",
       "4   35  2.761955\n",
       "5   42  3.158712"
      ]
     },
     "execution_count": 110,
     "metadata": {},
     "output_type": "execute_result"
    }
   ],
   "source": [
    "romi_average"
   ]
  },
  {
   "cell_type": "code",
   "execution_count": 111,
   "metadata": {},
   "outputs": [
    {
     "data": {
      "text/plain": [
       "array([0.80043812, 1.28734432, 1.77425052, 2.26115671, 2.74806291,\n",
       "       3.2349691 ])"
      ]
     },
     "execution_count": 111,
     "metadata": {},
     "output_type": "execute_result"
    }
   ],
   "source": [
    "model = LinearRegression().fit(np.array(romi_average['day']).reshape(-1, 1), romi_average['romi'])\n",
    "model.predict(np.array(romi_average['day']).reshape(-1, 1))"
   ]
  },
  {
   "cell_type": "code",
   "execution_count": 112,
   "metadata": {},
   "outputs": [
    {
     "data": {
      "text/plain": [
       "array([0.80043812, 1.28734432, 1.77425052, 2.26115671, 2.74806291,\n",
       "       3.2349691 ])"
      ]
     },
     "execution_count": 112,
     "metadata": {},
     "output_type": "execute_result"
    }
   ],
   "source": [
    "model.predict(np.array(romi_average['day']).reshape(-1, 1))"
   ]
  },
  {
   "cell_type": "code",
   "execution_count": 113,
   "metadata": {},
   "outputs": [
    {
     "data": {
      "text/plain": [
       "array([ 0.80043812,  1.28734432,  1.77425052,  2.26115671,  2.74806291,\n",
       "        3.2349691 ,  3.7218753 ,  4.2087815 ,  4.69568769,  5.18259389,\n",
       "        5.66950009,  6.15640628,  6.64331248,  7.13021867,  7.61712487,\n",
       "        8.10403107,  8.59093726,  9.07784346,  9.56474966, 10.05165585,\n",
       "       10.53856205, 11.02546824, 11.51237444, 11.99928064, 12.48618683])"
      ]
     },
     "execution_count": 113,
     "metadata": {},
     "output_type": "execute_result"
    }
   ],
   "source": [
    "model.predict(np.arange(7, 182, 7).reshape((-1, 1)))"
   ]
  },
  {
   "cell_type": "code",
   "execution_count": 120,
   "metadata": {},
   "outputs": [
    {
     "data": {
      "text/html": [
       "<div>\n",
       "<style scoped>\n",
       "    .dataframe tbody tr th:only-of-type {\n",
       "        vertical-align: middle;\n",
       "    }\n",
       "\n",
       "    .dataframe tbody tr th {\n",
       "        vertical-align: top;\n",
       "    }\n",
       "\n",
       "    .dataframe thead th {\n",
       "        text-align: right;\n",
       "    }\n",
       "</style>\n",
       "<table border=\"1\" class=\"dataframe\">\n",
       "  <thead>\n",
       "    <tr style=\"text-align: right;\">\n",
       "      <th></th>\n",
       "      <th>7</th>\n",
       "      <th>14</th>\n",
       "      <th>21</th>\n",
       "      <th>28</th>\n",
       "      <th>35</th>\n",
       "      <th>42</th>\n",
       "      <th>50</th>\n",
       "    </tr>\n",
       "  </thead>\n",
       "  <tbody>\n",
       "    <tr>\n",
       "      <th>0</th>\n",
       "      <td>0.719279</td>\n",
       "      <td>1.350896</td>\n",
       "      <td>1.915081</td>\n",
       "      <td>2.409586</td>\n",
       "      <td>2.897347</td>\n",
       "      <td>3.328914</td>\n",
       "      <td>3.746995</td>\n",
       "    </tr>\n",
       "  </tbody>\n",
       "</table>\n",
       "</div>"
      ],
      "text/plain": [
       "         7         14        21        28        35        42        50\n",
       "0  0.719279  1.350896  1.915081  2.409586  2.897347  3.328914  3.746995"
      ]
     },
     "execution_count": 120,
     "metadata": {},
     "output_type": "execute_result"
    }
   ],
   "source": [
    "romi_50 = pd.DataFrame()\n",
    "\n",
    "\n",
    "cogort = df.loc[(df['first_ts_num'] == 0) & (df['day_num'] <= 50)]\n",
    "cohort_size = cogort['user_id'].nunique()\n",
    "ltv =  (cogort.groupby('day_num')['revenue'].sum() / cohort_size ).cumsum()\n",
    "romi_50 = romi_50.append(    \n",
    "\n",
    "            { \n",
    "                7 : ltv[7 ] / cac, \n",
    "            14 : ltv[14 ]/ cac,\n",
    "            21 : ltv[21 ]/ cac,\n",
    "            28 : ltv[28 ] / cac, \n",
    "            35 : ltv[35 ] / cac, \n",
    "            42 : ltv[42 ] / cac,\n",
    "            50 : ltv[50 ] / cac,\n",
    "\n",
    "            }, ignore_index=True\n",
    "        )\n",
    "romi_50"
   ]
  },
  {
   "cell_type": "code",
   "execution_count": 122,
   "metadata": {},
   "outputs": [],
   "source": [
    "romi_50 = romi_50.T.reset_index().rename(columns = {'index': 'day', 0:'romi'})"
   ]
  },
  {
   "cell_type": "markdown",
   "metadata": {},
   "source": [
    "График получился аналогичный LTV, что при статичной стоимости привлечения клиентов неудивительно "
   ]
  },
  {
   "cell_type": "code",
   "execution_count": 124,
   "metadata": {},
   "outputs": [
    {
     "name": "stderr",
     "output_type": "stream",
     "text": [
      "No handles with labels found to put in legend.\n"
     ]
    },
    {
     "data": {
      "text/plain": [
       "Text(0.5, 1.0, 'ROMI')"
      ]
     },
     "execution_count": 124,
     "metadata": {},
     "output_type": "execute_result"
    },
    {
     "data": {
      "image/png": "[encoded data removed]",
      "text/plain": [
       "<Figure size 1008x360 with 1 Axes>"
      ]
     },
     "metadata": {
      "needs_background": "light"
     },
     "output_type": "display_data"
    }
   ],
   "source": [
    "plt.figure(figsize=(14,5))\n",
    "\n",
    "sns.lineplot(x = np.arange(7, 182, 7), y =  model.predict(np.arange(7, 182, 7).reshape((-1, 1))))\n",
    "sns.lineplot(x = romi_50['day'], y =  romi_50['romi'])\n",
    "plt.legend()\n",
    "plt.axhline(y=1, color='red', linestyle='--', label='Уровень окупаемости')\n",
    "plt.xlabel('Лайфтайм')\n",
    "plt.title('ROMI')"
   ]
  },
  {
   "cell_type": "markdown",
   "metadata": {},
   "source": [
    "**Вывод:** в идеальных условия все получается довольно красиво, я понимаю, что при расчете метрик на реальных данных все намного сложнее, как минимум необходимо было бы учитывать комиссии магазинов. Тут я этого не делал, потому что этого не было в условии."
   ]
  },
  {
   "cell_type": "code",
   "execution_count": null,
   "metadata": {},
   "outputs": [],
   "source": []
  }
 ],
 "metadata": {
  "interpreter": {
   "hash": "0e8d5dd07a1978fd9bf343fddba83a5b0fc991de2c25a7c4862743d7d6582fa3"
  },
  "kernelspec": {
   "display_name": "Python 3.9.6 64-bit",
   "language": "python",
   "name": "python3"
  },
  "language_info": {
   "codemirror_mode": {
    "name": "ipython",
    "version": 3
   },
   "file_extension": ".py",
   "mimetype": "text/x-python",
   "name": "python",
   "nbconvert_exporter": "python",
   "pygments_lexer": "ipython3",
   "version": "3.9.6"
  },
  "orig_nbformat": 4
 },
 "nbformat": 4,
 "nbformat_minor": 2
}
