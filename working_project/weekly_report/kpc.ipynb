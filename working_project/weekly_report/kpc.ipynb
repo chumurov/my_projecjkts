{
  "cells": [
    {
      "cell_type": "markdown",
      "metadata": {
        "id": "X8Rxs4xoICrC"
      },
      "source": [
        "Подключение библиотек"
      ]
    },
    {
      "cell_type": "code",
      "execution_count": null,
      "metadata": {
        "id": "4jx5UQRIICrF"
      },
      "outputs": [],
      "source": [
        "import pandas as pd\n",
        "import cx_Oracle\n",
        "from sqlalchemy import create_engine "
      ]
    },
    {
      "cell_type": "markdown",
      "metadata": {
        "id": "GMBWktkKICrG"
      },
      "source": [
        "Настройка подключения к базе данных"
      ]
    },
    {
      "cell_type": "code",
      "execution_count": null,
      "metadata": {
        "id": "URGM2apfICrH"
      },
      "outputs": [],
      "source": [
        "db_config = {\n",
        "    'user': '321', # имя пользователя\n",
        "    'pwd': '123456', # пароль\n",
        "    'host': 'DWH',\n",
        "    'port': 1521, # порт подключения\n",
        "    'db': 'DWH' # название базы данных\n",
        "}  \n",
        "\n",
        "connection_string = 'oracle://{}:{}@{}:{}/{}'.format(\n",
        "    db_config['user'],\n",
        "    db_config['pwd'],\n",
        "    db_config['host'],\n",
        "    db_config['port'],\n",
        "    db_config['db'],\n",
        ")"
      ]
    },
    {
      "cell_type": "markdown",
      "metadata": {
        "id": "A_U5KjDAICrI"
      },
      "source": [
        "Подключение к базе"
      ]
    },
    {
      "cell_type": "code",
      "execution_count": null,
      "metadata": {
        "id": "RRMoiKdGICrI"
      },
      "outputs": [],
      "source": [
        "engine = create_engine(connection_string) "
      ]
    },
    {
      "cell_type": "markdown",
      "metadata": {
        "id": "x1U5-zveICrI"
      },
      "source": [
        "Составление запроса и его выполнение "
      ]
    },
    {
      "cell_type": "code",
      "execution_count": null,
      "metadata": {
        "id": "jshEG2GEICrJ"
      },
      "outputs": [],
      "source": [
        "date = input('Введите последнюю дату за которую формируется отчет в формате ДД: ')\n",
        "month =  input('Введите месяц за который формируется отчет в формате ММ: ')"
      ]
    },
    {
      "cell_type": "code",
      "execution_count": null,
      "metadata": {
        "id": "CL4cAvpZICrK"
      },
      "outputs": [],
      "source": [
        "query = f'''\n",
        "WITH mv_nomencl AS\n",
        " (SELECT /*+NOPARALLEL */\n",
        "dmn.cd, dmn.med_nomenclature_key, dmn.nm\n",
        "FROM dwh.dim_med_nomenclature dmn\n",
        "WHERE dmn.cd NOT IN\n",
        "         (45243, 170487, 170488, 176126, 170412, 170411, 170414, 159092,\n",
        "          158854, 159093, 158853, 35160, 35159, 186229, 170486, 169758, 170485,\n",
        "          166442, 166444, 178015, 166446, 77479, 50464, 19286, 74912, 21185,\n",
        "          21184, 20053, 20052, 20074, 20073, 20060, 50463, 34014, 79413, 50462,\n",
        "          50461, 79412, 87599, 168365, 158946, 77480, 23077, 19284, 19283,\n",
        "          19285))\n",
        "          \n",
        "SELECT t.cd \"Код аптеки\",\n",
        "       t.nm \"Аптека\",\n",
        "       t.cashier \"Кассир\",              \n",
        "       sum(ct) \"Кол во позиций всего\",\n",
        "       count(DISTINCT(t.cheque_key)) \"Кол во чеков\",\n",
        "       count(DISTINCT(decode(t.ct, 1, t.cheque_key, NULL))) \"Кол во чеков =1 \"\n",
        "FROM (\n",
        "SELECT dc.cd,\n",
        "               dc.nm,\n",
        "--ddt.department_type_nm,\n",
        "f.dt_operation,\n",
        "               f.cheque_key,\n",
        "               dq.cashier,\n",
        "               count(1) ct\n",
        "FROM dwh.fact_move_goods f\n",
        "JOIN dwh.dim_contragent dc ON\n",
        "f.owner_key = dc.contragent_key\n",
        "JOIN dwh.dim_cheque dq ON\n",
        "f.cheque_key = dq.cheque_key\n",
        "JOIN mv_nomencl mn ON\n",
        "f.med_nomenclature_key = mn.med_nomenclature_key\n",
        "JOIN dwh.dim_department dd ON\n",
        "f.department_key = dd.department_key\n",
        "JOIN dwh.dim_department_type ddt ON\n",
        "dd.department_type_key = ddt.department_type_key\n",
        "JOIN dwh.dim_med_kind dmk ON\n",
        "f.med_kind_key = dmk.med_kind_key\n",
        "-- where dc.cd in (52244,52279,52324,52325,52400)\n",
        "AND f.operation_kind_key = 2\n",
        "--операция продажи \n",
        "AND f.account_type_key = 2\n",
        "-- розничная операция \n",
        "AND f.data_type = 12\n",
        "-- ефарма\n",
        "AND f.cheque_key IS NOT NULL\n",
        "AND (f.dt_operation BETWEEN '01.{month}.2022' AND '{date}.{month}.2022')\n",
        "--and dmk.cd in (229,254,255,230,257)\n",
        "AND ddt.cd IN (10, 15, 16, 19, 20, 23)\n",
        "-- 10 = розница, 20 = ветеринария, 16 = ортопедия, 15 = оптика материалы, 19 = оптика производство, 23 = оптика.\n",
        "GROUP BY dc.cd,\n",
        "                  dc.nm,\n",
        "--ddt.department_type_nm,\n",
        "\t\t\t\t  f.cheque_key,\n",
        "                  dq.cashier,\n",
        "                  dq.cashbox_nm,\n",
        "                  f.dt_operation\n",
        ") t\n",
        "GROUP BY t.cd,\n",
        "          t.nm,\n",
        "          to_char(t.dt_operation, 'yyyy_mm'),\n",
        "          t.cashier\n",
        "ORDER BY 1, 2, 3\n",
        "    \n",
        "'''\n",
        "\n",
        "df = pd.read_sql_query(query, con=engine)"
      ]
    },
    {
      "cell_type": "markdown",
      "metadata": {
        "id": "PnYc3jToICrL"
      },
      "source": [
        "Замена пустых полей в столце \"Кассир\" и замена на \"Администратор\" через fillna"
      ]
    },
    {
      "cell_type": "code",
      "execution_count": null,
      "metadata": {
        "id": "rg0_eBncICrM"
      },
      "outputs": [],
      "source": [
        "df['Кассир'] = df['Кассир'].fillna('Администратор')"
      ]
    },
    {
      "cell_type": "code",
      "execution_count": null,
      "metadata": {
        "id": "8KCPSK8LICrM",
        "outputId": "a0a2bfd2-f5d2-46ae-fe8a-fc769e0f6ae4",
        "scrolled": false
      },
      "outputs": [],
      "source": [
        "cra = pd.read_excel(r'C:\\Users\\nchumurov\\Desktop\\ipynb\\Еженедельный отчет - Количество позиций в чеке\\Otchet.xlsx', usecols=\"A,C,Y\", skiprows = 1) \\\n",
        "    .rename({'Unnamed: 0':'Код аптеки', 'Unnamed: 2':'ЦРА', 'Маркетинговая категория':'Категория аптеки'},axis = 1)\n",
        "cra['Код аптеки'] = pd.to_numeric(cra['Код аптеки'], errors='coerce')\n",
        "cra['Категория аптеки'] = cra['Категория аптеки'].fillna('Без категории')\n",
        "cra = cra.dropna()\n",
        "cra['Код аптеки'] = cra['Код аптеки'].astype('int64')\n",
        "cra['ЦРА'] = cra['ЦРА'].apply(lambda x: x.replace('Филиал', 'ЦРА'))\n",
        "cra['ЦРА'].loc[(cra['ЦРА'] == 'ЦРА 3') | (cra['ЦРА'] == 'ЦРА 300')] = 'ЦРА 3, 300'"
      ]
    },
    {
      "cell_type": "code",
      "execution_count": null,
      "metadata": {
        "id": "EaHto4K1ICrN"
      },
      "outputs": [],
      "source": [
        "df = df.merge(cra, on='Код аптеки', how='left')\n"
      ]
    },
    {
      "cell_type": "code",
      "execution_count": null,
      "metadata": {
        "id": "3TFbMq1DICrN"
      },
      "outputs": [],
      "source": [
        "df['Кассир'] = df['Кассир'].str.extract(r'([А-Я].*$)')   "
      ]
    },
    {
      "cell_type": "code",
      "execution_count": null,
      "metadata": {
        "id": "IumlpqSzICrO"
      },
      "outputs": [],
      "source": [
        "del_kassiri = ['123 А.В.', '123 О.Е.', '123 Л.Н.', '123 А.А.', '123 В.С.']\n"
      ]
    },
    {
      "cell_type": "code",
      "execution_count": null,
      "metadata": {
        "id": "OAERKOdjICrO"
      },
      "outputs": [],
      "source": [
        "df = df.query('Кассир not in @del_kassiri')"
      ]
    },
    {
      "cell_type": "markdown",
      "metadata": {
        "id": "Sthr7T-zICrO"
      },
      "source": [
        "Чтение аналогичного отчета за прошлую неделю"
      ]
    },
    {
      "cell_type": "code",
      "execution_count": null,
      "metadata": {
        "id": "xSygEIYtICrO"
      },
      "outputs": [],
      "source": [
        "pharm_last_week = pd.read_csv('Итоги отчета за прошлую неделю по Фармацевтам.csv', encoding='windows-1251')\n",
        "pharm_last_week"
      ]
    },
    {
      "cell_type": "code",
      "execution_count": null,
      "metadata": {
        "id": "D0JmrLZKICrO",
        "outputId": "1b21e7ab-1707-49a3-98bc-44688ecd4991"
      },
      "outputs": [],
      "source": [
        "category_pivot = df.pivot_table(index=['Категория аптеки'], values=['Кол во позиций всего', 'Кол во чеков', 'Кол во чеков =1 '], aggfunc='sum', margins = True, margins_name = 'Итого').reset_index()\n",
        "category_pivot.columns = ['Категория аптеки','Общее кол-во позиций в чеке',  'Общее кол-во чеков', 'Кол во чеков с 1 позицией']\n",
        "category_pivot['Ср. кол-во поз. в чеке ' + '1-' + date] = (category_pivot['Общее кол-во позиций в чеке'] / category_pivot['Общее кол-во чеков']).round(2)\n",
        "category_pivot['Доля чеков с 1-ой поз. ' + '1-' + date] = category_pivot['Кол во чеков с 1 позицией'] / category_pivot['Общее кол-во чеков']\n",
        "category_pivot"
      ]
    },
    {
      "cell_type": "code",
      "execution_count": null,
      "metadata": {
        "id": "tDA_afbrICrP",
        "outputId": "82b8dc66-14c1-4e3b-fb6d-f30e5c14fe66"
      },
      "outputs": [],
      "source": [
        "category_last_week = pd.read_csv('Итоги отчета за прошлую неделю по Категории.csv', encoding='windows-1251')\n",
        "category_last_week"
      ]
    },
    {
      "cell_type": "code",
      "execution_count": null,
      "metadata": {
        "id": "0Foc--fiICrP"
      },
      "outputs": [],
      "source": [
        "category_pivot[['Категория аптеки', 'Ср. кол-во поз. в чеке ' + '1-' + date,'Доля чеков с 1-ой поз. ' + '1-' + date]] \\\n",
        "    .to_csv('Итоги отчета за прошлую неделю по Категории.csv', index=False, encoding='windows-1251')"
      ]
    },
    {
      "cell_type": "code",
      "execution_count": null,
      "metadata": {
        "id": "rGtEK7maICrP"
      },
      "outputs": [],
      "source": [
        "category_pivot = category_pivot.merge(category_last_week, on = 'Категория аптеки')"
      ]
    },
    {
      "cell_type": "code",
      "execution_count": null,
      "metadata": {
        "id": "CwKnSGDtICrP",
        "outputId": "b84d0930-8f6f-42f9-da9c-0f503df3221b"
      },
      "outputs": [],
      "source": [
        "sp_column_names = category_pivot.columns.to_list()\n",
        "sp_column_names[4], sp_column_names[6] = sp_column_names[6], sp_column_names[4]\n",
        "sp_column_names[5], sp_column_names[7] = sp_column_names[7], sp_column_names[5]\n",
        "category_pivot.columns = sp_column_names\n",
        "category_pivot"
      ]
    },
    {
      "cell_type": "code",
      "execution_count": null,
      "metadata": {
        "id": "_y4YmfDxICrQ",
        "outputId": "2ff15261-ae78-4028-e8b2-c25f7a6bece9"
      },
      "outputs": [],
      "source": [
        "pivot_sp = df.pivot_table(index=['Код аптеки', 'Аптека', 'ЦРА', 'Категория аптеки'], values=['Кол во позиций всего', 'Кол во чеков', 'Кол во чеков =1 '], aggfunc='sum').reset_index()\n",
        "pivot_sp.columns = ['Код аптеки', 'Аптека', 'ЦРА', 'Категория аптеки','Общее кол-во позиций в чеке', \n",
        "                    'Общее кол-во чеков', 'Кол во чеков с 1 позицией']\n",
        "pivot_sp"
      ]
    },
    {
      "cell_type": "markdown",
      "metadata": {
        "id": "EEVIDHv7ICrQ"
      },
      "source": [
        "Приводит массив данных в табличных вид в pivot_sp"
      ]
    },
    {
      "cell_type": "code",
      "execution_count": null,
      "metadata": {
        "id": "tb_lth5oICrQ",
        "outputId": "050e327b-2844-4b43-ae76-a3a928f29edc",
        "scrolled": false
      },
      "outputs": [],
      "source": [
        "CRA_total = pivot_sp.groupby('ЦРА')[['Общее кол-во позиций в чеке', 'Общее кол-во чеков', 'Кол во чеков с 1 позицией']].agg('sum').reset_index()\n",
        "CRA_total['ЦРА'] = CRA_total['ЦРА'] + ' итого'\n",
        "CRA_total"
      ]
    },
    {
      "cell_type": "markdown",
      "metadata": {
        "id": "7rS_PC0QICrQ"
      },
      "source": [
        "Промежуточные итоги для ЦРА"
      ]
    },
    {
      "cell_type": "code",
      "execution_count": null,
      "metadata": {
        "id": "s3bbZrK_ICrQ",
        "outputId": "e2205681-e1ad-4a17-b2cc-78da5d44f177",
        "scrolled": false
      },
      "outputs": [],
      "source": [
        "pivot_sp = pivot_sp.append(CRA_total).sort_values(['ЦРА', 'Код аптеки', 'Аптека'])\n",
        "pivot_sp = pivot_sp.reset_index(drop=True)\n",
        "pivot_sp"
      ]
    },
    {
      "cell_type": "markdown",
      "metadata": {
        "id": "qNJjDRdVICrR"
      },
      "source": [
        "Добавление промитоги по ЦРА в pivot_sp, сортировка отчета по столбцам"
      ]
    },
    {
      "cell_type": "code",
      "execution_count": null,
      "metadata": {
        "id": "nSG5IXFjICrR",
        "outputId": "7a5eb749-667a-42cb-cce8-1c65286e2809",
        "scrolled": false
      },
      "outputs": [],
      "source": [
        "pivot_sp['Ср. кол-во поз. в чеке ' + '1-' + date] = (pivot_sp['Общее кол-во позиций в чеке'] / pivot_sp['Общее кол-во чеков']).round(2)\n",
        "pivot_sp['Доля чеков с 1-ой поз. ' + '1-' + date] = pivot_sp['Кол во чеков с 1 позицией'] / pivot_sp['Общее кол-во чеков']\n",
        "pivot_sp"
      ]
    },
    {
      "cell_type": "code",
      "execution_count": null,
      "metadata": {
        "id": "N0zgrhUVICrR",
        "outputId": "9bbde4fb-9699-4e5c-d444-66eab2bd97c1"
      },
      "outputs": [],
      "source": [
        "sp_last_week = pd.read_csv('Итоги отчета за прошлую неделю по СП.csv', encoding='windows-1251')\n",
        "sp_last_week"
      ]
    },
    {
      "cell_type": "markdown",
      "metadata": {
        "id": "LGA-VdM5ICrR"
      },
      "source": [
        "Ввод показателей ср. кол-во позиций и доля с помощью формул"
      ]
    },
    {
      "cell_type": "code",
      "execution_count": null,
      "metadata": {
        "id": "T_MU02a6ICrS"
      },
      "outputs": [],
      "source": [
        "pivot_sp[['Код аптеки', 'ЦРА',\n",
        "          'Ср. кол-во поз. в чеке ' + '1-' + date, \n",
        "          'Доля чеков с 1-ой поз. ' + '1-' + date]].\\\n",
        "        to_csv('Итоги отчета за прошлую неделю по СП.csv', index=False, encoding='windows-1251')"
      ]
    },
    {
      "cell_type": "markdown",
      "metadata": {
        "id": "3-SxSgNlICrS"
      },
      "source": [
        "Сохранение полученной таблицы по СП"
      ]
    },
    {
      "cell_type": "code",
      "execution_count": null,
      "metadata": {
        "id": "BT71IFmeICrS"
      },
      "outputs": [],
      "source": [
        "pivot_pharm = df.pivot_table(index=['Код аптеки', 'Аптека', 'Кассир'], values=['Кол во позиций всего', 'Кол во чеков', 'Кол во чеков =1 '], aggfunc='sum').reset_index()\n",
        "pivot_pharm.columns = ['Код аптеки', 'Аптека', 'Кассир', 'Общее кол-во позиций в чеке', 'Общее кол-во чеков', \n",
        "                       'Кол во чеков с 1 позицией']\n",
        "pivot_pharm"
      ]
    },
    {
      "cell_type": "code",
      "execution_count": null,
      "metadata": {
        "id": "OfdI9Nf0ICrS"
      },
      "outputs": [],
      "source": [
        "pivot_pharm = pivot_pharm.merge(cra, on='Код аптеки', how='left')\n",
        "pivot_pharm = pivot_pharm[['Код аптеки', 'Аптека', 'ЦРА', 'Кассир', 'Общее кол-во позиций в чеке', \n",
        "                           'Общее кол-во чеков', 'Кол во чеков с 1 позицией']]\n",
        "pivot_pharm = pivot_pharm.sort_values(['ЦРА', 'Код аптеки', 'Аптека']).reset_index(drop=True)\n",
        "pivot_pharm"
      ]
    },
    {
      "cell_type": "code",
      "execution_count": null,
      "metadata": {
        "id": "lFRvIQdCICrS"
      },
      "outputs": [],
      "source": [
        "pivot_pharm['Ср. кол-во поз. в чеке ' + '1-' + date] = (pivot_pharm['Общее кол-во позиций в чеке'] / pivot_pharm['Общее кол-во чеков']).round(2)\n",
        "pivot_pharm['Доля чеков с 1-ой поз. ' + '1-' + date] = pivot_pharm['Кол во чеков с 1 позицией'] / pivot_pharm['Общее кол-во чеков']\n",
        "pivot_pharm"
      ]
    },
    {
      "cell_type": "code",
      "execution_count": null,
      "metadata": {
        "id": "tiN7Aa4AICrT"
      },
      "outputs": [],
      "source": [
        "pivot_pharm = pivot_pharm.merge(pharm_last_week, on=['Код аптеки','Кассир'], how='left')\n",
        "pivot_pharm"
      ]
    },
    {
      "cell_type": "code",
      "execution_count": null,
      "metadata": {
        "id": "So5cD-ppICrT"
      },
      "outputs": [],
      "source": [
        "pivot_pharm[['Код аптеки', 'Кассир', \n",
        "             'Ср. кол-во поз. в чеке ' + '1-' + date, \n",
        "             'Доля чеков с 1-ой поз. ' + '1-' + date]].\\\n",
        "           to_csv('Итоги отчета за прошлую неделю по Фармацевтам.csv', index=False, encoding='windows-1251')"
      ]
    },
    {
      "cell_type": "code",
      "execution_count": null,
      "metadata": {
        "id": "Sl1jDLArICrT",
        "outputId": "5fde7e9e-3f5f-478a-c581-d4af560157d9"
      },
      "outputs": [],
      "source": [
        "pivot_sp = pivot_sp.merge(sp_last_week, on=['Код аптеки','ЦРА'], how='left')\n",
        "pivot_sp"
      ]
    },
    {
      "cell_type": "code",
      "execution_count": null,
      "metadata": {
        "id": "uKBQ8kJ-ICrT"
      },
      "outputs": [],
      "source": [
        "sp_column_names = pivot_sp.columns.to_list()\n",
        "sp_column_names[7], sp_column_names[9] = sp_column_names[9], sp_column_names[7]\n",
        "sp_column_names[8], sp_column_names[10] = sp_column_names[10], sp_column_names[8]"
      ]
    },
    {
      "cell_type": "code",
      "execution_count": null,
      "metadata": {
        "id": "M6gLwitEICrT",
        "outputId": "32e5e862-a6f3-46db-84f3-3ffaba22df06"
      },
      "outputs": [],
      "source": [
        "pivot_sp = pivot_sp[sp_column_names]\n",
        "pivot_sp"
      ]
    },
    {
      "cell_type": "code",
      "execution_count": null,
      "metadata": {
        "id": "FmCAxHajICrT"
      },
      "outputs": [],
      "source": [
        "pharm_column_names = pivot_pharm.columns.to_list()\n",
        "pharm_column_names[7], pharm_column_names[9] = pharm_column_names[9], pharm_column_names[7]\n",
        "pharm_column_names[8], pharm_column_names[10] = pharm_column_names[10], pharm_column_names[8]"
      ]
    },
    {
      "cell_type": "code",
      "execution_count": null,
      "metadata": {
        "id": "IIt5TFwpICrU"
      },
      "outputs": [],
      "source": [
        "pivot_pharm = pivot_pharm[pharm_column_names]\n",
        "pivot_pharm"
      ]
    },
    {
      "cell_type": "code",
      "execution_count": null,
      "metadata": {
        "id": "jWc6Ow0vICrU",
        "outputId": "4fbeb3dd-c076-431a-844f-3fd36351bbcf"
      },
      "outputs": [],
      "source": [
        "file_name =f'Кол-во поз в чеке 1-{date}.{month}.2022.xlsx'\n",
        "file_name"
      ]
    },
    {
      "cell_type": "code",
      "execution_count": null,
      "metadata": {
        "id": "sVn0nSzNICrU"
      },
      "outputs": [],
      "source": [
        "writer = pd.ExcelWriter(file_name, engine='xlsxwriter')\n",
        "workbook = writer.book\n",
        "\n",
        "header_format = workbook.add_format({'bold':True,\n",
        "                                     'text_wrap':True,\n",
        "                                     'valign':'top',\n",
        "                                     'align':'center',\n",
        "                                     'fg_color':'#D7E4BC',\n",
        "                                     'border':1,\n",
        "                                     'font_size':9})\n",
        "header_format_curr_week = workbook.add_format({'bold':True,\n",
        "                                               'text_wrap':True,\n",
        "                                               'valign':'top',\n",
        "                                               'align':'center',\n",
        "                                               'fg_color':'#7CC8D4',\n",
        "                                               'border':1,\n",
        "                                               'font_size':9})\n",
        "table_format = workbook.add_format({'border': 1,\n",
        "                                    'font_size':9})\n",
        "percent_format = workbook.add_format({'border': 1,\n",
        "                                      'font_size':9,\n",
        "                                      'num_format':'0.0%'})\n",
        "subtotal_format = workbook.add_format({'bold': True,\n",
        "                                       'border':1,\n",
        "                                       'font_size':9,\n",
        "                                       'fg_color':'#DDB671'})\n",
        "subtotal_percent_format = workbook.add_format({'bold': True,\n",
        "                                               'border':1,\n",
        "                                               'font_size':9,\n",
        "                                               'fg_color':'#DDB671',\n",
        "                                               'num_format':'0.0%'})\n",
        "\n",
        "pivot_sp.to_excel(writer, sheet_name='СП', index=False, startrow=1, header=False)\n",
        "\n",
        "worksheet_sp = writer.sheets['СП']\n",
        "\n",
        "worksheet_sp.autofilter(0, 0, pivot_sp.shape[0], pivot_sp.shape[1]-1)\n",
        "worksheet_sp.set_column('A:A', None, table_format)\n",
        "worksheet_sp.set_column('B:B', 75, table_format)\n",
        "worksheet_sp.set_column('C:C', 11, table_format)\n",
        "worksheet_sp.set_column('D:D', 25, table_format)\n",
        "\n",
        "worksheet_sp.set_column('E:H', 15, table_format)\n",
        "worksheet_sp.set_column('I:I', 15, percent_format)\n",
        "worksheet_sp.set_column('J:J', 15, table_format)\n",
        "worksheet_sp.set_column('K:K', 15, percent_format)\n",
        "\n",
        "for row_for_height in range(1, pivot_sp.shape[0]+1):\n",
        "    worksheet_sp.set_row(row_for_height, 12)\n",
        "\n",
        "for col_num, value in enumerate(pivot_sp.columns.values):\n",
        "    if col_num in (9, 10):\n",
        "        worksheet_sp.write(0, col_num, value, header_format_curr_week)\n",
        "    else:\n",
        "        worksheet_sp.write(0, col_num, value, header_format)\n",
        "    \n",
        "for row_num in pivot_sp[pivot_sp['ЦРА'].str.find('итог') > 0].index.values:\n",
        "    row = pivot_sp.loc[row_num,]\n",
        "    for col_num, value in enumerate(row.values):\n",
        "        try:\n",
        "            if col_num in (8, 10):\n",
        "                worksheet_sp.write(row_num+1, col_num, value, subtotal_percent_format)\n",
        "            else:\n",
        "                worksheet_sp.write(row_num+1, col_num, value, subtotal_format)\n",
        "        except:\n",
        "            worksheet_sp.write(row_num+1, col_num, '', subtotal_format)\n",
        "\n",
        "\n",
        "\n",
        "category_pivot.to_excel(writer, sheet_name='СП', index=False, startrow=pivot_sp.shape[0]+4, startcol=3, header=False)            \n",
        "\n",
        "\n",
        "for col_num, value in enumerate(category_pivot.columns):\n",
        "    col_num = col_num + 3\n",
        "    worksheet_sp.write(pivot_sp.shape[0] + 3, col_num, value, header_format)\n",
        "\n",
        "\n",
        "for col_num, value in enumerate(category_pivot.loc[category_pivot[category_pivot['Категория аптеки'].str.find('Итого') >= 0].index[0], ]):\n",
        "        col_num = col_num + 3\n",
        "        try:\n",
        "            if col_num in (8, 10):\n",
        "                worksheet_sp.write(pivot_sp.shape[0] + 4 + category_pivot[category_pivot['Категория аптеки'].str.find('Итого') >= 0].index[0], \n",
        "                                   col_num, value, subtotal_percent_format)\n",
        "            else:\n",
        "                worksheet_sp.write(pivot_sp.shape[0] + 4 + category_pivot[category_pivot['Категория аптеки'].str.find('Итого') >= 0].index[0],\n",
        "                                   col_num, value, subtotal_format)\n",
        "        except:\n",
        "            worksheet_sp.write(pivot_sp.shape[0] + 4 + category_pivot[category_pivot['Категория аптеки'].str.find('Итого') >= 0].index[0],\n",
        "                               col_num, '', subtotal_format)\n",
        "\n",
        "\n",
        "\n",
        "for row_for_height in range(1, pivot_sp.shape[0] + 4 + category_pivot.shape[0] + 1):\n",
        "    if row_for_height == 1 or row_for_height == pivot_sp.shape[0] + 3:\n",
        "        pass\n",
        "    else:\n",
        "        worksheet_sp.set_row(row_for_height, 12)         \n",
        "\n",
        "pivot_pharm.to_excel(writer, sheet_name='Фармацевты', index=False, startrow=1, header=False)\n",
        "\n",
        "\n",
        "worksheet_pharm = writer.sheets['Фармацевты']\n",
        "\n",
        "for row_for_height in range(1, pivot_pharm.shape[0]+1):\n",
        "    worksheet_pharm.set_row(row_for_height, 12)\n",
        "\n",
        "worksheet_pharm.autofilter(0, 0, pivot_pharm.shape[0], pivot_pharm.shape[1]-1)\n",
        "worksheet_pharm.set_column('A:A', None, table_format)\n",
        "worksheet_pharm.set_column('B:B', 75, table_format)\n",
        "worksheet_pharm.set_column('C:C', None, table_format)\n",
        "worksheet_pharm.set_column('D:D', 20, table_format)\n",
        "worksheet_pharm.set_column('E:H', 15, table_format)\n",
        "worksheet_pharm.set_column('I:I', 15, percent_format)\n",
        "worksheet_pharm.set_column('J:J', 15, table_format)\n",
        "worksheet_pharm.set_column('K:K', 15, percent_format)\n",
        "\n",
        "for col_num, value in enumerate(pivot_pharm.columns.values):\n",
        "    if col_num in (9, 10):\n",
        "        worksheet_pharm.write(0, col_num, value, header_format_curr_week)\n",
        "    else:\n",
        "        worksheet_pharm.write(0, col_num, value, header_format)\n",
        "    \n",
        "writer.save()"
      ]
    }
  ],
  "metadata": {
    "colab": {
      "collapsed_sections": [],
      "name": "Еженедельный_отчет_Количество_позиций_в_чеке_—_копия.ipynb",
      "provenance": []
    },
    "kernelspec": {
      "display_name": "Python 3",
      "language": "python",
      "name": "python3"
    },
    "language_info": {
      "codemirror_mode": {
        "name": "ipython",
        "version": 3
      },
      "file_extension": ".py",
      "mimetype": "text/x-python",
      "name": "python",
      "nbconvert_exporter": "python",
      "pygments_lexer": "ipython3",
      "version": "3.10.1"
    }
  },
  "nbformat": 4,
  "nbformat_minor": 0
}
