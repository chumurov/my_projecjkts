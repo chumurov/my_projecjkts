{
  "cells": [
    {
      "cell_type": "code",
      "execution_count": null,
      "metadata": {
        "id": "rIn2V2T_PolU"
      },
      "outputs": [],
      "source": [
        "from selenium import webdriver\n",
        "from selenium.webdriver.common.by import By\n",
        "from selenium.webdriver.support.ui import WebDriverWait\n",
        "from selenium.webdriver.support import expected_conditions as EC"
      ]
    },
    {
      "cell_type": "code",
      "execution_count": null,
      "metadata": {
        "id": "X88NbJx6PolX"
      },
      "outputs": [],
      "source": [
        "import pandas as pd\n",
        "import time"
      ]
    },
    {
      "cell_type": "markdown",
      "metadata": {},
      "source": []
    },
    {
      "cell_type": "code",
      "execution_count": null,
      "metadata": {
        "id": "EUJpaZv9PolY"
      },
      "outputs": [],
      "source": [
        "from selenium.webdriver.support.ui import Select\n",
        "from selenium.webdriver.common.keys import Keys\n"
      ]
    },
    {
      "cell_type": "code",
      "execution_count": null,
      "metadata": {
        "id": "hc5bxs0qPolY"
      },
      "outputs": [],
      "source": [
        "kategorii = pd.read_excel(r'C:\\Users\\nchumurov\\Desktop\\ipynb\\Данные для отчета.xlsx')"
      ]
    },
    {
      "cell_type": "code",
      "execution_count": null,
      "metadata": {
        "id": "7EXRhEvjPolY"
      },
      "outputs": [],
      "source": [
        "driver = webdriver.Chrome(executable_path=r'C:\\Users\\nchumurov\\Desktop\\ipynb\\selenium\\chromedriver.exe')\n",
        "driver.get('312')\n",
        "\n",
        "driver.find_element_by_id('ctl32_ctl04_ctl07_ddDropDownButton').click()\n",
        "\n",
        "driver.find_elements_by_xpath ('/html/body/form/span/table/tbody/tr[2]/td/table/tbody/tr/td/span/table/tbody/tr/td/span[2]/div/table/tbody/tr[2]/td/div[3]/span/div[1]/span/table/tbody/tr[2]/td/span/input')[0].click()\n",
        "\n",
        "\n",
        "\n",
        "driver.find_element_by_id('ctl32_ctl04_ctl03_ddDropDownButton').click()\n",
        "l = driver.find_elements_by_xpath ('//*[@id=\"ctl32_ctl04_ctl03_divDropDown\"]/span/div[1]/span/table/tbody/tr')\n",
        "slov = {x.text : i+1 for i, x in enumerate(l)}\n",
        "\n",
        "i = 0\n",
        "b = []\n",
        "for x in kategorii['Наименование аптеки']:\n",
        "    i +=1\n",
        "    b.append(driver.find_elements_by_xpath (f'/html/body/form/span/table/tbody/tr[2]/td/table/tbody/tr/td/span/table/tbody/tr/td/span[2]/div/table/tbody/tr[2]/td/div[2]/span/div[1]/span/table/tbody/tr[{slov[x]}]/td/span/label')[0].text)\n",
        "    driver.find_elements_by_xpath (f'/html/body/form/span/table/tbody/tr[2]/td/table/tbody/tr/td/span/table/tbody/tr/td/span[2]/div/table/tbody/tr[2]/td/div[2]/span/div[1]/span/table/tbody/tr[{slov[x]}]/td/span/input')[0].click()\n",
        "    if i == 10:\n",
        "        driver.find_element_by_id('ctl32_ctl04_ctl00').click()\n",
        "        i = 0  \n",
        "        #задержка, чтобы подождать полной прогрузки\n",
        "        time.sleep(300)\n",
        "        driver.find_elements_by_id('ctl32_ctl05_ctl04_ctl00')[0].click()\n",
        "        \n",
        "        driver.find_element_by_xpath('/html/body/form/span[1]/table/tbody/tr[2]/td/table/tbody/tr/td/span/table/tbody/tr/td/span[2]/div/table/tbody/tr[4]/td/div/div/div[3]/table/tbody/tr/td/div[2]/div[5]/a').click()\n",
        "        driver.find_element_by_id('ctl32_ctl04_ctl03_ddDropDownButton').click()\n",
        "\n",
        "        \n"
      ]
    }
  ],
  "metadata": {
    "colab": {
      "name": "selenium.ipynb",
      "provenance": []
    },
    "interpreter": {
      "hash": "594b54ec04fad064287f0c735b3e041e873a9c85f1d42e29f5310fd57bef8594"
    },
    "kernelspec": {
      "display_name": "Python 3.10.1 64-bit",
      "language": "python",
      "name": "python3"
    },
    "language_info": {
      "codemirror_mode": {
        "name": "ipython",
        "version": 3
      },
      "file_extension": ".py",
      "mimetype": "text/x-python",
      "name": "python",
      "nbconvert_exporter": "python",
      "pygments_lexer": "ipython3",
      "version": "3.10.1"
    },
    "orig_nbformat": 4
  },
  "nbformat": 4,
  "nbformat_minor": 0
}
